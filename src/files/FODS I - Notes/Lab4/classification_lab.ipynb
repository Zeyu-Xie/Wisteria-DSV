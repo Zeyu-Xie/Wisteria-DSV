{
 "cells": [
  {
   "cell_type": "markdown",
   "metadata": {},
   "source": [
    "# Question:\n",
    "Should we have hyperparameter tuning and cross validation in here?"
   ]
  },
  {
   "cell_type": "markdown",
   "metadata": {},
   "source": [
    "### Dataset description\n",
    "\n",
    "We will use the Titanic dataset, one of the classics for classification tasks.\n",
    "The dataset is already split in train and test sets, since it has been used for some competitions in the past.\n",
    "\n",
    "The train set includes these columns:\n",
    "- PassengerId: The unique identifier of each passenger. It has no meaning\n",
    "- Survived: Our label, indicates if the passenger will survive or not (unsurprisingly)\n",
    "  - 0: the passenger dies\n",
    "  - 1: the passenger survives\n",
    "- pclass: A proxy for socio-economic status (SES)\n",
    "  - 1st = Upper\n",
    "  - 2nd = Middle\n",
    "  - 3rd = Lower\n",
    "- name: The name of the passenger\n",
    "- sex: The sex of the passenger.\n",
    "  - Male\n",
    "  - Female\n",
    "- age: Age is fractional if less than 1. If the age is estimated, is it in the form of xx.5\n",
    "\n",
    "- sibsp: The number of siblings / spouses aboard the Titanic\n",
    "  - Sibling = brother, sister, stepbrother, stepsister\n",
    "  - Spouse = husband, wife\n",
    "\n",
    "- parch: The number of parents / children aboard the Titanic \t\n",
    "  - Parent = mother, father\n",
    "  - Child = daughter, son, stepdaughter, stepson\n",
    "\n",
    "- Ticket: \tThe ticket number\n",
    "- Fare: The price paid by each passenger\n",
    "- Cabin: \tThe cabin number\n",
    "- Embarked: The port of Embarkation\n",
    "  - C = Cherbourg,\n",
    "  - Q = Queenstown,\n",
    "  - S = Southampton"
   ]
  },
  {
   "cell_type": "markdown",
   "metadata": {},
   "source": [
    "### Plan for the lab:\n",
    "\n",
    "- Open the dataset 🔜\n",
    "- Explore the dataset 🔜\n",
    "- Split the data in train and test\n",
    "- Make sure that there are no missing values\n",
    "- Make sure that there are no erroneous values (e.g. words where only numbers should be)\n",
    "- Scale the data\n",
    "- Train two classification models on the data\n",
    "- Compare the performance of the two models on the test data"
   ]
  },
  {
   "cell_type": "code",
   "execution_count": 1,
   "metadata": {},
   "outputs": [],
   "source": [
    "# # Import the basic libraries: pandas, matplotlib\n",
    "import pandas as pd\n",
    "import matplotlib.pyplot as plt\n",
    "import sklearn\n",
    "import seaborn as sns"
   ]
  },
  {
   "cell_type": "code",
   "execution_count": 2,
   "metadata": {},
   "outputs": [],
   "source": [
    "# Load the data\n",
    "train = pd.read_csv('titanic_train.csv')"
   ]
  },
  {
   "cell_type": "code",
   "execution_count": 3,
   "metadata": {},
   "outputs": [
    {
     "data": {
      "text/html": [
       "<div>\n",
       "<style scoped>\n",
       "    .dataframe tbody tr th:only-of-type {\n",
       "        vertical-align: middle;\n",
       "    }\n",
       "\n",
       "    .dataframe tbody tr th {\n",
       "        vertical-align: top;\n",
       "    }\n",
       "\n",
       "    .dataframe thead th {\n",
       "        text-align: right;\n",
       "    }\n",
       "</style>\n",
       "<table border=\"1\" class=\"dataframe\">\n",
       "  <thead>\n",
       "    <tr style=\"text-align: right;\">\n",
       "      <th></th>\n",
       "      <th>PassengerId</th>\n",
       "      <th>Survived</th>\n",
       "      <th>Pclass</th>\n",
       "      <th>Name</th>\n",
       "      <th>Sex</th>\n",
       "      <th>Age</th>\n",
       "      <th>SibSp</th>\n",
       "      <th>Parch</th>\n",
       "      <th>Ticket</th>\n",
       "      <th>Fare</th>\n",
       "      <th>Cabin</th>\n",
       "      <th>Embarked</th>\n",
       "    </tr>\n",
       "  </thead>\n",
       "  <tbody>\n",
       "    <tr>\n",
       "      <th>0</th>\n",
       "      <td>1</td>\n",
       "      <td>0</td>\n",
       "      <td>3</td>\n",
       "      <td>Braund, Mr. Owen Harris</td>\n",
       "      <td>male</td>\n",
       "      <td>22.0</td>\n",
       "      <td>1</td>\n",
       "      <td>0</td>\n",
       "      <td>A/5 21171</td>\n",
       "      <td>7.2500</td>\n",
       "      <td>NaN</td>\n",
       "      <td>S</td>\n",
       "    </tr>\n",
       "    <tr>\n",
       "      <th>1</th>\n",
       "      <td>2</td>\n",
       "      <td>1</td>\n",
       "      <td>1</td>\n",
       "      <td>Cumings, Mrs. John Bradley (Florence Briggs Th...</td>\n",
       "      <td>female</td>\n",
       "      <td>38.0</td>\n",
       "      <td>1</td>\n",
       "      <td>0</td>\n",
       "      <td>PC 17599</td>\n",
       "      <td>71.2833</td>\n",
       "      <td>C85</td>\n",
       "      <td>C</td>\n",
       "    </tr>\n",
       "    <tr>\n",
       "      <th>2</th>\n",
       "      <td>3</td>\n",
       "      <td>1</td>\n",
       "      <td>3</td>\n",
       "      <td>Heikkinen, Miss. Laina</td>\n",
       "      <td>female</td>\n",
       "      <td>26.0</td>\n",
       "      <td>0</td>\n",
       "      <td>0</td>\n",
       "      <td>STON/O2. 3101282</td>\n",
       "      <td>7.9250</td>\n",
       "      <td>NaN</td>\n",
       "      <td>S</td>\n",
       "    </tr>\n",
       "    <tr>\n",
       "      <th>3</th>\n",
       "      <td>4</td>\n",
       "      <td>1</td>\n",
       "      <td>1</td>\n",
       "      <td>Futrelle, Mrs. Jacques Heath (Lily May Peel)</td>\n",
       "      <td>female</td>\n",
       "      <td>35.0</td>\n",
       "      <td>1</td>\n",
       "      <td>0</td>\n",
       "      <td>113803</td>\n",
       "      <td>53.1000</td>\n",
       "      <td>C123</td>\n",
       "      <td>S</td>\n",
       "    </tr>\n",
       "    <tr>\n",
       "      <th>4</th>\n",
       "      <td>5</td>\n",
       "      <td>0</td>\n",
       "      <td>3</td>\n",
       "      <td>Allen, Mr. William Henry</td>\n",
       "      <td>male</td>\n",
       "      <td>35.0</td>\n",
       "      <td>0</td>\n",
       "      <td>0</td>\n",
       "      <td>373450</td>\n",
       "      <td>8.0500</td>\n",
       "      <td>NaN</td>\n",
       "      <td>S</td>\n",
       "    </tr>\n",
       "  </tbody>\n",
       "</table>\n",
       "</div>"
      ],
      "text/plain": [
       "   PassengerId  Survived  Pclass  \\\n",
       "0            1         0       3   \n",
       "1            2         1       1   \n",
       "2            3         1       3   \n",
       "3            4         1       1   \n",
       "4            5         0       3   \n",
       "\n",
       "                                                Name     Sex   Age  SibSp  \\\n",
       "0                            Braund, Mr. Owen Harris    male  22.0      1   \n",
       "1  Cumings, Mrs. John Bradley (Florence Briggs Th...  female  38.0      1   \n",
       "2                             Heikkinen, Miss. Laina  female  26.0      0   \n",
       "3       Futrelle, Mrs. Jacques Heath (Lily May Peel)  female  35.0      1   \n",
       "4                           Allen, Mr. William Henry    male  35.0      0   \n",
       "\n",
       "   Parch            Ticket     Fare Cabin Embarked  \n",
       "0      0         A/5 21171   7.2500   NaN        S  \n",
       "1      0          PC 17599  71.2833   C85        C  \n",
       "2      0  STON/O2. 3101282   7.9250   NaN        S  \n",
       "3      0            113803  53.1000  C123        S  \n",
       "4      0            373450   8.0500   NaN        S  "
      ]
     },
     "execution_count": 3,
     "metadata": {},
     "output_type": "execute_result"
    }
   ],
   "source": [
    "# Display the first few rows of the data\n",
    "train.head()"
   ]
  },
  {
   "cell_type": "code",
   "execution_count": 4,
   "metadata": {},
   "outputs": [
    {
     "data": {
      "text/html": [
       "<div>\n",
       "<style scoped>\n",
       "    .dataframe tbody tr th:only-of-type {\n",
       "        vertical-align: middle;\n",
       "    }\n",
       "\n",
       "    .dataframe tbody tr th {\n",
       "        vertical-align: top;\n",
       "    }\n",
       "\n",
       "    .dataframe thead th {\n",
       "        text-align: right;\n",
       "    }\n",
       "</style>\n",
       "<table border=\"1\" class=\"dataframe\">\n",
       "  <thead>\n",
       "    <tr style=\"text-align: right;\">\n",
       "      <th></th>\n",
       "      <th>PassengerId</th>\n",
       "      <th>Survived</th>\n",
       "      <th>Pclass</th>\n",
       "      <th>Age</th>\n",
       "      <th>SibSp</th>\n",
       "      <th>Parch</th>\n",
       "      <th>Fare</th>\n",
       "    </tr>\n",
       "  </thead>\n",
       "  <tbody>\n",
       "    <tr>\n",
       "      <th>count</th>\n",
       "      <td>891.000000</td>\n",
       "      <td>891.000000</td>\n",
       "      <td>891.000000</td>\n",
       "      <td>714.000000</td>\n",
       "      <td>891.000000</td>\n",
       "      <td>891.000000</td>\n",
       "      <td>891.000000</td>\n",
       "    </tr>\n",
       "    <tr>\n",
       "      <th>mean</th>\n",
       "      <td>446.000000</td>\n",
       "      <td>0.383838</td>\n",
       "      <td>2.308642</td>\n",
       "      <td>29.699118</td>\n",
       "      <td>0.523008</td>\n",
       "      <td>0.381594</td>\n",
       "      <td>32.204208</td>\n",
       "    </tr>\n",
       "    <tr>\n",
       "      <th>std</th>\n",
       "      <td>257.353842</td>\n",
       "      <td>0.486592</td>\n",
       "      <td>0.836071</td>\n",
       "      <td>14.526497</td>\n",
       "      <td>1.102743</td>\n",
       "      <td>0.806057</td>\n",
       "      <td>49.693429</td>\n",
       "    </tr>\n",
       "    <tr>\n",
       "      <th>min</th>\n",
       "      <td>1.000000</td>\n",
       "      <td>0.000000</td>\n",
       "      <td>1.000000</td>\n",
       "      <td>0.420000</td>\n",
       "      <td>0.000000</td>\n",
       "      <td>0.000000</td>\n",
       "      <td>0.000000</td>\n",
       "    </tr>\n",
       "    <tr>\n",
       "      <th>25%</th>\n",
       "      <td>223.500000</td>\n",
       "      <td>0.000000</td>\n",
       "      <td>2.000000</td>\n",
       "      <td>20.125000</td>\n",
       "      <td>0.000000</td>\n",
       "      <td>0.000000</td>\n",
       "      <td>7.910400</td>\n",
       "    </tr>\n",
       "    <tr>\n",
       "      <th>50%</th>\n",
       "      <td>446.000000</td>\n",
       "      <td>0.000000</td>\n",
       "      <td>3.000000</td>\n",
       "      <td>28.000000</td>\n",
       "      <td>0.000000</td>\n",
       "      <td>0.000000</td>\n",
       "      <td>14.454200</td>\n",
       "    </tr>\n",
       "    <tr>\n",
       "      <th>75%</th>\n",
       "      <td>668.500000</td>\n",
       "      <td>1.000000</td>\n",
       "      <td>3.000000</td>\n",
       "      <td>38.000000</td>\n",
       "      <td>1.000000</td>\n",
       "      <td>0.000000</td>\n",
       "      <td>31.000000</td>\n",
       "    </tr>\n",
       "    <tr>\n",
       "      <th>max</th>\n",
       "      <td>891.000000</td>\n",
       "      <td>1.000000</td>\n",
       "      <td>3.000000</td>\n",
       "      <td>80.000000</td>\n",
       "      <td>8.000000</td>\n",
       "      <td>6.000000</td>\n",
       "      <td>512.329200</td>\n",
       "    </tr>\n",
       "  </tbody>\n",
       "</table>\n",
       "</div>"
      ],
      "text/plain": [
       "       PassengerId    Survived      Pclass         Age       SibSp  \\\n",
       "count   891.000000  891.000000  891.000000  714.000000  891.000000   \n",
       "mean    446.000000    0.383838    2.308642   29.699118    0.523008   \n",
       "std     257.353842    0.486592    0.836071   14.526497    1.102743   \n",
       "min       1.000000    0.000000    1.000000    0.420000    0.000000   \n",
       "25%     223.500000    0.000000    2.000000   20.125000    0.000000   \n",
       "50%     446.000000    0.000000    3.000000   28.000000    0.000000   \n",
       "75%     668.500000    1.000000    3.000000   38.000000    1.000000   \n",
       "max     891.000000    1.000000    3.000000   80.000000    8.000000   \n",
       "\n",
       "            Parch        Fare  \n",
       "count  891.000000  891.000000  \n",
       "mean     0.381594   32.204208  \n",
       "std      0.806057   49.693429  \n",
       "min      0.000000    0.000000  \n",
       "25%      0.000000    7.910400  \n",
       "50%      0.000000   14.454200  \n",
       "75%      0.000000   31.000000  \n",
       "max      6.000000  512.329200  "
      ]
     },
     "execution_count": 4,
     "metadata": {},
     "output_type": "execute_result"
    }
   ],
   "source": [
    "train.describe()"
   ]
  },
  {
   "cell_type": "code",
   "execution_count": 5,
   "metadata": {},
   "outputs": [
    {
     "name": "stdout",
     "output_type": "stream",
     "text": [
      "Survived\n",
      "0    549\n",
      "1    342\n",
      "Name: count, dtype: int64\n",
      "Proportion: 1.61 : 1\n"
     ]
    }
   ],
   "source": [
    "# Print data imbalance\n",
    "print(train['Survived'].value_counts())\n",
    "\n",
    "# print the proportion of the positive class to the negative class\n",
    "print('Proportion:', round(train['Survived'].value_counts()[0] / train['Survived'].value_counts()[1], 2), ': 1')"
   ]
  },
  {
   "cell_type": "code",
   "execution_count": 6,
   "metadata": {},
   "outputs": [
    {
     "data": {
      "image/png": "[encoded data removed]",
      "text/plain": [
       "<Figure size 640x480 with 1 Axes>"
      ]
     },
     "metadata": {},
     "output_type": "display_data"
    },
    {
     "name": "stdout",
     "output_type": "stream",
     "text": [
      "Percentage of overall survivors 0.3838383838383838\n",
      "Percentage of male survivors 0.18890814558058924\n",
      "Percentage of female survivors 0.7420382165605095\n"
     ]
    }
   ],
   "source": [
    "# Group by 'Sex' and 'Survived', then unstack the 'Survived' level to create columns for each survival status\n",
    "survival_data_gender = train.groupby(['Sex', 'Survived']).size().unstack('Survived')\n",
    "\n",
    "# Plot the data\n",
    "survival_data_gender.plot(kind='bar', stacked=True)\n",
    "\n",
    "# Add labels and title\n",
    "plt.xlabel('Sex')\n",
    "plt.ylabel('Number of passengers')\n",
    "plt.title('Survival by Sex')\n",
    "\n",
    "# Display the plot\n",
    "plt.show()\n",
    "\n",
    "# Print the percentage of survivors, then the percentage of survivors by gender\n",
    "print('Percentage of overall survivors', train['Survived'].mean())\n",
    "# filter the data to include only rows where the column 'Sex' is equal to 'male'\n",
    "train_male = train[train['Sex']=='male']\n",
    "print('Percentage of male survivors', train_male['Survived'].mean())\n",
    "\n",
    "# filter the data to include only rows where the column 'Sex' is equal to 'female'\n",
    "train_female = train[train['Sex']=='female']\n",
    "print('Percentage of female survivors', train_female['Survived'].mean())"
   ]
  },
  {
   "cell_type": "code",
   "execution_count": 7,
   "metadata": {},
   "outputs": [
    {
     "data": {
      "image/png": "[encoded data removed]",
      "text/plain": [
       "<Figure size 640x480 with 1 Axes>"
      ]
     },
     "metadata": {},
     "output_type": "display_data"
    },
    {
     "name": "stdout",
     "output_type": "stream",
     "text": [
      "Percentage of overall survivors 0.3838383838383838\n",
      "Percentage of survivors in 1st class 0.6296296296296297\n",
      "Percentage of survivors in 2nd class 0.47282608695652173\n",
      "Percentage of survivors in 3rd class 0.24236252545824846\n"
     ]
    }
   ],
   "source": [
    "# Group by 'Pclass' and 'Survived', then unstack the 'Survived' level to create columns for each survival status\n",
    "survival_data_class = train.groupby(['Pclass', 'Survived']).size().unstack('Survived')\n",
    "\n",
    "# Plot the data\n",
    "survival_data_class.plot(kind='bar', stacked=True)\n",
    "\n",
    "# Add labels and title\n",
    "plt.xlabel('Class')\n",
    "plt.ylabel('Number of passengers')\n",
    "plt.title('Survival by Class')\n",
    "\n",
    "# Display the plot\n",
    "plt.show()\n",
    "\n",
    "# Print the percentage of survivors, then the percentage of survivors by class\n",
    "print('Percentage of overall survivors', train['Survived'].mean())\n",
    "# filter the data to include only rows where the column 'Sex' is equal to 'male'\n",
    "train_class1 = train[train['Pclass']==1]\n",
    "print('Percentage of survivors in 1st class', train_class1['Survived'].mean())\n",
    "\n",
    "# filter the data to include only rows where the column 'Sex' is equal to 'female'\n",
    "train_class2 = train[train['Pclass']==2]\n",
    "print('Percentage of survivors in 2nd class', train_class2['Survived'].mean())\n",
    "\n",
    "# filter the data to include only rows where the column 'Sex' is equal to 'female'\n",
    "train_class3 = train[train['Pclass']==3]\n",
    "print('Percentage of survivors in 3rd class', train_class3['Survived'].mean())"
   ]
  },
  {
   "cell_type": "code",
   "execution_count": 8,
   "metadata": {},
   "outputs": [
    {
     "data": {
      "image/png": "[encoded data removed]",
      "text/plain": [
       "<Figure size 640x480 with 1 Axes>"
      ]
     },
     "metadata": {},
     "output_type": "display_data"
    },
    {
     "name": "stdout",
     "output_type": "stream",
     "text": [
      "Percentage of overall survivors 0.3838383838383838\n",
      "Percentage of survivors embarked in port C 0.5535714285714286\n",
      "Percentage of survivors embarked in port Q 0.38961038961038963\n",
      "Percentage of survivors embarked in port S 0.33695652173913043\n"
     ]
    }
   ],
   "source": [
    "# Group by 'Embarked' and 'Survived', then unstack the 'Survived' level to create columns for each survival status\n",
    "survival_data_class = train.groupby(['Embarked', 'Survived']).size().unstack('Survived')\n",
    "\n",
    "# Plot the data\n",
    "survival_data_class.plot(kind='bar', stacked=True)\n",
    "\n",
    "# Add labels and title\n",
    "plt.xlabel('Port of Embarkation')\n",
    "plt.ylabel('Number of passengers')\n",
    "plt.title('Survival by Port of embarkation')\n",
    "\n",
    "# Display the plot\n",
    "plt.show()\n",
    "\n",
    "# Print the percentage of survivors, then the percentage of survivors by class\n",
    "print('Percentage of overall survivors', train['Survived'].mean())\n",
    "# filter the data to include only rows where the column 'Sex' is equal to 'male'\n",
    "train_portC = train[train['Embarked']=='C']\n",
    "print('Percentage of survivors embarked in port C', train_portC['Survived'].mean())\n",
    "\n",
    "# filter the data to include only rows where the column 'Sex' is equal to 'female'\n",
    "train_portQ = train[train['Embarked']=='Q']\n",
    "print('Percentage of survivors embarked in port Q', train_portQ['Survived'].mean())\n",
    "\n",
    "# filter the data to include only rows where the column 'Sex' is equal to 'female'\n",
    "train_portS = train[train['Embarked']=='S']\n",
    "print('Percentage of survivors embarked in port S', train_portS['Survived'].mean())"
   ]
  },
  {
   "cell_type": "code",
   "execution_count": 9,
   "metadata": {},
   "outputs": [
    {
     "name": "stdout",
     "output_type": "stream",
     "text": [
      "PassengerId      0\n",
      "Survived         0\n",
      "Pclass           0\n",
      "Name             0\n",
      "Sex              0\n",
      "Age            177\n",
      "SibSp            0\n",
      "Parch            0\n",
      "Ticket           0\n",
      "Fare             0\n",
      "Cabin          687\n",
      "Embarked         2\n",
      "dtype: int64\n"
     ]
    }
   ],
   "source": [
    "# Check the missing values in the train set\n",
    "print(train.isnull().sum())"
   ]
  },
  {
   "cell_type": "code",
   "execution_count": 10,
   "metadata": {},
   "outputs": [],
   "source": [
    "# Drop the Cabin column, which has a lot of missing values\n",
    "train.drop('Cabin', axis=1, inplace=True)"
   ]
  },
  {
   "cell_type": "code",
   "execution_count": 11,
   "metadata": {},
   "outputs": [],
   "source": [
    "# Delete the rows with missing values in the Embarked column\n",
    "train.dropna(subset=['Embarked'], inplace=True)\n",
    "train.reset_index(drop=True, inplace=True)"
   ]
  },
  {
   "cell_type": "code",
   "execution_count": 12,
   "metadata": {},
   "outputs": [
    {
     "data": {
      "image/png": "[encoded data removed]",
      "text/plain": [
       "<Figure size 640x480 with 1 Axes>"
      ]
     },
     "metadata": {},
     "output_type": "display_data"
    }
   ],
   "source": [
    "# Plot a histogram of the Age column\n",
    "train['Age'].hist(bins=30)\n",
    "plt.xlabel('Age')\n",
    "plt.ylabel('Number of passengers')\n",
    "plt.title('Age distribution')\n",
    "plt.show()"
   ]
  },
  {
   "cell_type": "markdown",
   "metadata": {},
   "source": [
    "## Observation:\n",
    "\n",
    "The distribution of the age values appears to be non-normal. As such, imputing with the mean would be wrong."
   ]
  },
  {
   "cell_type": "code",
   "execution_count": 13,
   "metadata": {},
   "outputs": [
    {
     "name": "stdout",
     "output_type": "stream",
     "text": [
      "Number of passengers with age == 0: 0\n"
     ]
    }
   ],
   "source": [
    "# print the number of passengers with age = 0\n",
    "print('Number of passengers with age == 0:', train[train['Age'] == 0].shape[0])"
   ]
  },
  {
   "cell_type": "code",
   "execution_count": 14,
   "metadata": {},
   "outputs": [],
   "source": [
    "y = train['Survived']\n",
    "X = train.drop('Survived', axis=1)"
   ]
  },
  {
   "cell_type": "markdown",
   "metadata": {},
   "source": [
    "以以下比例划分：\n",
    "\n",
    "- `X_train` 和 `y_train`：占原始数据的 60%，用于模型训练。\n",
    "- `X_test` 和 `y_test`：占原始数据的 20%，用于模型测试。\n",
    "- `X_val` 和 `y_val`：占原始数据的 20%，用于模型验证。"
   ]
  },
  {
   "cell_type": "code",
   "execution_count": 15,
   "metadata": {},
   "outputs": [
    {
     "name": "stdout",
     "output_type": "stream",
     "text": [
      "Training set (_train): (533, 10) (533,) 0.5995500562429696\n",
      "Validation set (_val): (178, 10) (178,) 0.20022497187851518\n",
      "Test set (_test): (178, 10) (178,) 0.20022497187851518\n"
     ]
    }
   ],
   "source": [
    "# Split the data into a training and a test set\n",
    "from sklearn.model_selection import train_test_split\n",
    "X_mix, X_val, y_mix, y_val = train_test_split(X, y, test_size=0.2, random_state=0, stratify=y)\n",
    "X_train, X_test, y_train, y_test = train_test_split(X_mix, y_mix, test_size=0.25, random_state=0, stratify=y_mix)\n",
    "\n",
    "print(\"Training set (_train):\", X_train.shape, y_train.shape, len(y_train)/len(y))\n",
    "print(\"Validation set (_val):\", X_val.shape, y_val.shape, len(y_val)/len(y))\n",
    "print(\"Test set (_test):\", X_test.shape, y_test.shape, len(y_test)/len(y))"
   ]
  },
  {
   "cell_type": "code",
   "execution_count": 16,
   "metadata": {},
   "outputs": [
    {
     "name": "stdout",
     "output_type": "stream",
     "text": [
      "          Age  SibSp     Parch      Fare\n",
      "0    0.290877  0.000  0.000000  0.014151\n",
      "1    0.481795  0.125  0.333333  0.234224\n",
      "2    0.113596  0.125  0.166667  0.031035\n",
      "3         NaN  0.000  0.000000  0.014102\n",
      "4    0.277240  0.000  0.000000  0.015225\n",
      "..        ...    ...       ...       ...\n",
      "528  0.522706  0.000  0.833333  0.056848\n",
      "529  0.863630  0.000  0.000000  0.050749\n",
      "530  0.018137  0.125  0.166667  0.050749\n",
      "531  0.277240  0.000  0.000000  0.015330\n",
      "532  0.277240  0.250  0.000000  0.143462\n",
      "\n",
      "[533 rows x 4 columns]\n",
      "          Age  SibSp     Parch      Fare\n",
      "0    0.543161  0.000  0.333333  0.028302\n",
      "1    0.440884  0.000  0.000000  0.018543\n",
      "2    0.522706  0.125  0.833333  0.061045\n",
      "3    0.372699  0.000  0.000000  0.018543\n",
      "4    0.236329  0.250  0.333333  0.512122\n",
      "..        ...    ...       ...       ...\n",
      "173  0.959089  0.000  0.000000  0.067640\n",
      "174  0.372699  0.000  0.000000  0.051822\n",
      "175  0.331788  0.000  0.000000  0.014932\n",
      "176  0.249966  0.000  0.000000  0.028302\n",
      "177  0.249966  0.000  0.000000  0.013175\n",
      "\n",
      "[178 rows x 4 columns]\n",
      "          Age  SibSp     Parch      Fare\n",
      "0    0.699986  0.000  0.000000  0.025374\n",
      "1         NaN  0.000  0.000000  0.014110\n",
      "2    0.236329  0.000  0.000000  0.015713\n",
      "3    0.031774  0.500  0.333333  0.061264\n",
      "4    0.672712  0.250  0.000000  0.260867\n",
      "..        ...    ...       ...       ...\n",
      "173  0.386336  0.000  0.666667  0.041136\n",
      "174  0.018137  0.125  0.166667  0.050749\n",
      "175  0.263603  0.000  0.000000  0.015330\n",
      "176  0.618164  0.000  0.000000  0.154588\n",
      "177  0.536343  0.125  0.166667  0.076123\n",
      "\n",
      "[178 rows x 4 columns]\n"
     ]
    }
   ],
   "source": [
    "# create a list if the numerical columns\n",
    "num_cols = ['Age', 'SibSp', 'Parch', 'Fare']\n",
    "# Standardize the numeric data: remember, kNN is sensitive to the scales of the features!\n",
    "# Let's also keep a non-standardized version of the data to see if standardization makes a difference\n",
    "\n",
    "from sklearn.preprocessing import MinMaxScaler\n",
    "scaler = MinMaxScaler()\n",
    "\n",
    "num_train_scaled = scaler.fit_transform(X_train[num_cols])\n",
    "num_train_scaled = pd.DataFrame(num_train_scaled, columns=num_cols)\n",
    "\n",
    "# Let's repeat the same steps for the test data\n",
    "num_val_scaled = scaler.transform(X_val[num_cols])\n",
    "num_val_scaled = pd.DataFrame(num_val_scaled, columns=num_cols)\n",
    "\n",
    "num_test_scaled = scaler.transform(X_test[num_cols])\n",
    "num_test_scaled = pd.DataFrame(num_test_scaled, columns=num_cols)\n",
    "\n",
    "print(num_train_scaled)\n",
    "print(num_val_scaled)\n",
    "print(num_test_scaled)"
   ]
  },
  {
   "cell_type": "code",
   "execution_count": 17,
   "metadata": {},
   "outputs": [
    {
     "name": "stdout",
     "output_type": "stream",
     "text": [
      "Pclass       int64\n",
      "Sex         object\n",
      "Embarked    object\n",
      "dtype: object\n"
     ]
    }
   ],
   "source": [
    "# Let's create the same list, but for categorical columns\n",
    "cat_cols = ['Pclass', 'Sex', 'Embarked']\n",
    "\n",
    "# Let's check the types of the columns\n",
    "print(X_train[cat_cols].dtypes)\n"
   ]
  },
  {
   "cell_type": "code",
   "execution_count": 18,
   "metadata": {},
   "outputs": [
    {
     "name": "stdout",
     "output_type": "stream",
     "text": [
      "Pclass      object\n",
      "Sex         object\n",
      "Embarked    object\n",
      "dtype: object\n",
      "    Pclass     Sex Embarked\n",
      "319      3    male        S\n",
      "762      1  female        S\n",
      "488      3    male        S\n",
      "353      3    male        C\n",
      "51       3    male        S\n",
      "..     ...     ...      ...\n",
      "883      3  female        Q\n",
      "544      1    male        S\n",
      "529      2  female        S\n",
      "622      3    male        S\n",
      "119      2    male        S\n",
      "\n",
      "[533 rows x 3 columns]\n",
      "    Pclass     Sex Embarked\n",
      "152      3    male        S\n",
      "751      3    male        S\n",
      "609      3  female        S\n",
      "199      3    male        S\n",
      "310      1  female        C\n",
      "..     ...     ...      ...\n",
      "95       1    male        C\n",
      "429      1    male        S\n",
      "74       3    male        S\n",
      "574      3    male        S\n",
      "142      3    male        Q\n",
      "\n",
      "[178 rows x 3 columns]\n",
      "    Pclass     Sex Embarked\n",
      "713      2    male        S\n",
      "523      3    male        C\n",
      "203      3    male        S\n",
      "260      3    male        S\n",
      "659      1    male        S\n",
      "..     ...     ...      ...\n",
      "566      3  female        S\n",
      "339      2    male        S\n",
      "90       3    male        S\n",
      "788      1    male        C\n",
      "669      2  female        S\n",
      "\n",
      "[178 rows x 3 columns]\n"
     ]
    }
   ],
   "source": [
    "# Pclass is encoded as an int, but it is actually a categorical variable\n",
    "X_train['Pclass'] = X_train['Pclass'].astype('object')\n",
    "X_val['Pclass'] = X_val['Pclass'].astype('object')\n",
    "X_test['Pclass'] = X_test['Pclass'].astype('object')\n",
    "\n",
    "# Let's check the types of the columns again\n",
    "print(X_train[cat_cols].dtypes)\n",
    "\n",
    "print(X_train[cat_cols])\n",
    "print(X_val[cat_cols])\n",
    "print(X_test[cat_cols])"
   ]
  },
  {
   "cell_type": "code",
   "execution_count": 19,
   "metadata": {},
   "outputs": [
    {
     "name": "stdout",
     "output_type": "stream",
     "text": [
      "The type of the trasformed output is: <class 'scipy.sparse._csr.csr_matrix'>\n"
     ]
    }
   ],
   "source": [
    "# Let's now one-hot encode the categorical columns. There are two ways to do this: using the get_dummies function from pandas, or using the OneHotEncoder from scikit-learn.\n",
    "X_train_cat = pd.get_dummies(X_train[cat_cols], drop_first=True)\n",
    "X_val_cat = pd.get_dummies(X_val[cat_cols], drop_first=True)\n",
    "X_test_cat = pd.get_dummies(X_test[cat_cols], drop_first=True)\n",
    "\n",
    "# Let's use the OneHotEncoder from scikit-learn\n",
    "from sklearn.preprocessing import OneHotEncoder\n",
    "encoder = OneHotEncoder(drop='first')\n",
    "X_train_cat2 = encoder.fit_transform(X_train[cat_cols])\n",
    "X_val_cat2 = encoder.transform(X_val[cat_cols])\n",
    "X_test_cat2 = encoder.transform(X_test[cat_cols])\n",
    "\n",
    "print('The type of the trasformed output is:', type(X_train_cat2))\n",
    "\n",
    "# Since we used sklearn, the output is a matrix, not a DataFrame. Let's convert it to a DataFrame\n",
    "X_train_cat2 = pd.DataFrame(X_train_cat2.toarray(), columns=encoder.get_feature_names_out(input_features=cat_cols))\n",
    "X_val_cat2 = pd.DataFrame(X_val_cat2.toarray(), columns=encoder.get_feature_names_out(input_features=cat_cols))\n",
    "X_test_cat2 = pd.DataFrame(X_test_cat2.toarray(), columns=encoder.get_feature_names_out(input_features=cat_cols))\n",
    "\n"
   ]
  },
  {
   "cell_type": "code",
   "execution_count": 20,
   "metadata": {},
   "outputs": [
    {
     "data": {
      "text/html": [
       "<div>\n",
       "<style scoped>\n",
       "    .dataframe tbody tr th:only-of-type {\n",
       "        vertical-align: middle;\n",
       "    }\n",
       "\n",
       "    .dataframe tbody tr th {\n",
       "        vertical-align: top;\n",
       "    }\n",
       "\n",
       "    .dataframe thead th {\n",
       "        text-align: right;\n",
       "    }\n",
       "</style>\n",
       "<table border=\"1\" class=\"dataframe\">\n",
       "  <thead>\n",
       "    <tr style=\"text-align: right;\">\n",
       "      <th></th>\n",
       "      <th>Pclass_2</th>\n",
       "      <th>Pclass_3</th>\n",
       "      <th>Sex_male</th>\n",
       "      <th>Embarked_Q</th>\n",
       "      <th>Embarked_S</th>\n",
       "    </tr>\n",
       "  </thead>\n",
       "  <tbody>\n",
       "    <tr>\n",
       "      <th>319</th>\n",
       "      <td>False</td>\n",
       "      <td>True</td>\n",
       "      <td>True</td>\n",
       "      <td>False</td>\n",
       "      <td>True</td>\n",
       "    </tr>\n",
       "    <tr>\n",
       "      <th>762</th>\n",
       "      <td>False</td>\n",
       "      <td>False</td>\n",
       "      <td>False</td>\n",
       "      <td>False</td>\n",
       "      <td>True</td>\n",
       "    </tr>\n",
       "    <tr>\n",
       "      <th>488</th>\n",
       "      <td>False</td>\n",
       "      <td>True</td>\n",
       "      <td>True</td>\n",
       "      <td>False</td>\n",
       "      <td>True</td>\n",
       "    </tr>\n",
       "    <tr>\n",
       "      <th>353</th>\n",
       "      <td>False</td>\n",
       "      <td>True</td>\n",
       "      <td>True</td>\n",
       "      <td>False</td>\n",
       "      <td>False</td>\n",
       "    </tr>\n",
       "    <tr>\n",
       "      <th>51</th>\n",
       "      <td>False</td>\n",
       "      <td>True</td>\n",
       "      <td>True</td>\n",
       "      <td>False</td>\n",
       "      <td>True</td>\n",
       "    </tr>\n",
       "  </tbody>\n",
       "</table>\n",
       "</div>"
      ],
      "text/plain": [
       "     Pclass_2  Pclass_3  Sex_male  Embarked_Q  Embarked_S\n",
       "319     False      True      True       False        True\n",
       "762     False     False     False       False        True\n",
       "488     False      True      True       False        True\n",
       "353     False      True      True       False       False\n",
       "51      False      True      True       False        True"
      ]
     },
     "execution_count": 20,
     "metadata": {},
     "output_type": "execute_result"
    }
   ],
   "source": [
    "X_train_cat.head()"
   ]
  },
  {
   "cell_type": "code",
   "execution_count": 21,
   "metadata": {},
   "outputs": [
    {
     "data": {
      "text/html": [
       "<div>\n",
       "<style scoped>\n",
       "    .dataframe tbody tr th:only-of-type {\n",
       "        vertical-align: middle;\n",
       "    }\n",
       "\n",
       "    .dataframe tbody tr th {\n",
       "        vertical-align: top;\n",
       "    }\n",
       "\n",
       "    .dataframe thead th {\n",
       "        text-align: right;\n",
       "    }\n",
       "</style>\n",
       "<table border=\"1\" class=\"dataframe\">\n",
       "  <thead>\n",
       "    <tr style=\"text-align: right;\">\n",
       "      <th></th>\n",
       "      <th>Pclass_2</th>\n",
       "      <th>Pclass_3</th>\n",
       "      <th>Sex_male</th>\n",
       "      <th>Embarked_Q</th>\n",
       "      <th>Embarked_S</th>\n",
       "    </tr>\n",
       "  </thead>\n",
       "  <tbody>\n",
       "    <tr>\n",
       "      <th>0</th>\n",
       "      <td>0.0</td>\n",
       "      <td>1.0</td>\n",
       "      <td>1.0</td>\n",
       "      <td>0.0</td>\n",
       "      <td>1.0</td>\n",
       "    </tr>\n",
       "    <tr>\n",
       "      <th>1</th>\n",
       "      <td>0.0</td>\n",
       "      <td>0.0</td>\n",
       "      <td>0.0</td>\n",
       "      <td>0.0</td>\n",
       "      <td>1.0</td>\n",
       "    </tr>\n",
       "    <tr>\n",
       "      <th>2</th>\n",
       "      <td>0.0</td>\n",
       "      <td>1.0</td>\n",
       "      <td>1.0</td>\n",
       "      <td>0.0</td>\n",
       "      <td>1.0</td>\n",
       "    </tr>\n",
       "    <tr>\n",
       "      <th>3</th>\n",
       "      <td>0.0</td>\n",
       "      <td>1.0</td>\n",
       "      <td>1.0</td>\n",
       "      <td>0.0</td>\n",
       "      <td>0.0</td>\n",
       "    </tr>\n",
       "    <tr>\n",
       "      <th>4</th>\n",
       "      <td>0.0</td>\n",
       "      <td>1.0</td>\n",
       "      <td>1.0</td>\n",
       "      <td>0.0</td>\n",
       "      <td>1.0</td>\n",
       "    </tr>\n",
       "  </tbody>\n",
       "</table>\n",
       "</div>"
      ],
      "text/plain": [
       "   Pclass_2  Pclass_3  Sex_male  Embarked_Q  Embarked_S\n",
       "0       0.0       1.0       1.0         0.0         1.0\n",
       "1       0.0       0.0       0.0         0.0         1.0\n",
       "2       0.0       1.0       1.0         0.0         1.0\n",
       "3       0.0       1.0       1.0         0.0         0.0\n",
       "4       0.0       1.0       1.0         0.0         1.0"
      ]
     },
     "execution_count": 21,
     "metadata": {},
     "output_type": "execute_result"
    }
   ],
   "source": [
    "X_train_cat2.head()"
   ]
  },
  {
   "cell_type": "code",
   "execution_count": 22,
   "metadata": {},
   "outputs": [],
   "source": [
    "# trasnform the true values to 1 and the false values to 0\n",
    "X_train_cat = X_train_cat.astype('int')\n",
    "# trasnform the values to ints\n",
    "X_train_cat2 = X_train_cat2.astype('int')"
   ]
  },
  {
   "cell_type": "code",
   "execution_count": 23,
   "metadata": {},
   "outputs": [
    {
     "name": "stdout",
     "output_type": "stream",
     "text": [
      "Are the values the same? True\n"
     ]
    }
   ],
   "source": [
    "# compare the values of the dataframes in the two methods\n",
    "cat_values = X_train_cat.values\n",
    "cat2_values = X_train_cat2.values\n",
    "print('Are the values the same?', (cat_values == cat2_values).all())"
   ]
  },
  {
   "cell_type": "markdown",
   "metadata": {},
   "source": [
    "Was it worth to follow all the additional steps to obtain the same result?"
   ]
  },
  {
   "cell_type": "code",
   "execution_count": 24,
   "metadata": {},
   "outputs": [],
   "source": [
    "# Fill the missing values in the Age column with the median age\n",
    "median_value = num_train_scaled['Age'].median()\n",
    "\n",
    "num_train_scaled_median = num_train_scaled.copy()\n",
    "num_val_scaled_median = num_val_scaled.copy()\n",
    "num_test_scaled_median = num_test_scaled.copy()\n",
    "\n",
    "num_train_scaled_median['Age'] = num_train_scaled_median['Age'].fillna(median_value)\n",
    "num_val_scaled_median['Age'] = num_val_scaled_median['Age'].fillna(median_value)\n",
    "num_test_scaled_median['Age'] = num_test_scaled_median['Age'].fillna(median_value)"
   ]
  },
  {
   "cell_type": "code",
   "execution_count": 25,
   "metadata": {},
   "outputs": [],
   "source": [
    "# Fill the missing columns in the Age column with a KNN imputer\n",
    "from sklearn.impute import KNNImputer\n",
    "imputer = KNNImputer(n_neighbors=5)\n",
    "\n",
    "num_train_scaled_KNN = num_train_scaled.copy()\n",
    "num_val_scaled_KNN = num_val_scaled.copy()\n",
    "num_test_scaled_KNN = num_test_scaled.copy()\n",
    "\n",
    "num_train_scaled_KNN = imputer.fit_transform(num_train_scaled_KNN)\n",
    "num_val_scaled_KNN = imputer.transform(num_val_scaled_KNN)\n",
    "num_test_scaled_KNN = imputer.transform(num_test_scaled_KNN)\n",
    "\n",
    "num_train_scaled_KNN = pd.DataFrame(num_train_scaled_KNN, columns=num_cols)\n",
    "num_val_scaled_KNN = pd.DataFrame(num_val_scaled_KNN, columns=num_cols)\n",
    "num_test_scaled_KNN = pd.DataFrame(num_test_scaled_KNN, columns=num_cols)"
   ]
  },
  {
   "cell_type": "code",
   "execution_count": 26,
   "metadata": {},
   "outputs": [
    {
     "data": {
      "image/png": "[encoded data removed]",
      "text/plain": [
       "<Figure size 1500x500 with 3 Axes>"
      ]
     },
     "metadata": {},
     "output_type": "display_data"
    }
   ],
   "source": [
    "# compare the two methods, plotting the histograms of the Age columns before imputation, and after imputation with the median and KNN methods.\n",
    "# set the scales of the histograms to be the same\n",
    "\n",
    "fig, axs = plt.subplots(1, 3, figsize=(15, 5))\n",
    "axs[0].hist(train['Age'].dropna(), bins=30)\n",
    "axs[0].set_title('Original Age distribution')\n",
    "axs[0].set_xlabel('Age')\n",
    "axs[0].set_ylabel('Number of passengers')\n",
    "axs[1].hist(num_train_scaled_median['Age'], bins=30)\n",
    "axs[1].set_title('Age distribution after imputation with median')\n",
    "axs[1].set_xlabel('Age')\n",
    "axs[1].set_ylabel('Number of passengers')\n",
    "axs[2].hist(num_train_scaled_KNN['Age'], bins=30)\n",
    "axs[2].set_title('Age distribution after imputation with KNN')\n",
    "axs[2].set_xlabel('Age')\n",
    "axs[2].set_ylabel('Number of passengers')\n",
    "axs[0].set_ylim(0, 160)\n",
    "axs[1].set_ylim(0, 160)\n",
    "axs[2].set_ylim(0, 160)\n",
    "plt.show()\n",
    "\n",
    "\n"
   ]
  },
  {
   "cell_type": "markdown",
   "metadata": {},
   "source": [
    "# Let's now train a KNN and a Decision Tree Classifiers using only the categorical data\n",
    "#### We will compare the training process with a single split and with cross validation"
   ]
  },
  {
   "cell_type": "code",
   "execution_count": 27,
   "metadata": {},
   "outputs": [],
   "source": [
    "from sklearn.neighbors import KNeighborsClassifier as KNN\n",
    "from sklearn.tree import DecisionTreeClassifier as DT\n",
    "from sklearn.model_selection import GridSearchCV, ParameterGrid\n"
   ]
  },
  {
   "cell_type": "code",
   "execution_count": 28,
   "metadata": {},
   "outputs": [
    {
     "name": "stdout",
     "output_type": "stream",
     "text": [
      "Average F1 score for Decision Tree: 0.8270269316906033\n"
     ]
    }
   ],
   "source": [
    "param_grid_tree = {'max_depth': [2, 3, 4],\n",
    "                   'min_samples_split': [2, 3, 4],\n",
    "                   'min_samples_leaf': [1, 2, 3]}\n",
    "\n",
    "performance_tree = []\n",
    "for parameter_tree_combination in ParameterGrid(param_grid_tree):\n",
    "    tree = DT(**parameter_tree_combination)\n",
    "    tree.fit(X_train_cat2, y_train)\n",
    "    y_tree = tree.predict(X_val_cat2)\n",
    "    performance_tree.append(sklearn.metrics.f1_score(y_val, y_tree, average='macro'))\n",
    "\n",
    "# print the average of the f1 scores\n",
    "print('Average F1 score for Decision Tree:', sum(performance_tree) / len(performance_tree))"
   ]
  },
  {
   "cell_type": "code",
   "execution_count": 29,
   "metadata": {},
   "outputs": [
    {
     "name": "stdout",
     "output_type": "stream",
     "text": [
      "Best parameters for Decision Tree: {'max_depth': 4, 'min_samples_leaf': 1, 'min_samples_split': 2}\n",
      "Average F1 score for Decision Tree: 0.7512466414740822\n"
     ]
    }
   ],
   "source": [
    "grid_search_tree = GridSearchCV(DT(random_state=0), param_grid_tree, cv=5, scoring='f1_macro', n_jobs=-1)\n",
    "grid_search_tree.fit(X_train_cat2, y_train)\n",
    "print('Best parameters for Decision Tree:', grid_search_tree.best_params_)\n",
    "print('Average F1 score for Decision Tree:', grid_search_tree.cv_results_['mean_test_score'].mean())"
   ]
  },
  {
   "cell_type": "code",
   "execution_count": 30,
   "metadata": {},
   "outputs": [
    {
     "name": "stdout",
     "output_type": "stream",
     "text": [
      "Average F1 score for KNN: 0.8172890412169704\n"
     ]
    }
   ],
   "source": [
    "param_grid_KNN = {'n_neighbors': [3, 5, 7],\n",
    "                  'weights': ['uniform', 'distance']}\n",
    "\n",
    "performance_KNN = []\n",
    "for parameter_KNN_combination in ParameterGrid(param_grid_KNN):\n",
    "    knn = KNN(**parameter_KNN_combination)\n",
    "    knn.fit(X_train_cat2, y_train)\n",
    "    y_knn = knn.predict(X_val_cat2)\n",
    "    performance_KNN.append(sklearn.metrics.f1_score(y_val, y_knn, average='macro'))\n",
    "\n",
    "# print the average of the f1 scores\n",
    "print('Average F1 score for KNN:', sum(performance_KNN) / len(performance_KNN))"
   ]
  },
  {
   "cell_type": "code",
   "execution_count": 31,
   "metadata": {},
   "outputs": [
    {
     "name": "stdout",
     "output_type": "stream",
     "text": [
      "Best parameters for KNN: {'n_neighbors': 5, 'weights': 'distance'}\n",
      "Average F1 score for KNN: 0.708434127924014\n"
     ]
    }
   ],
   "source": [
    "grid_search_KNN = GridSearchCV(KNN(), param_grid_KNN, cv=5, scoring='f1_macro', n_jobs=-1)\n",
    "grid_search_KNN.fit(X_train_cat2, y_train)\n",
    "print('Best parameters for KNN:', grid_search_KNN.best_params_)\n",
    "# print the average score\n",
    "print('Average F1 score for KNN:', grid_search_KNN.cv_results_['mean_test_score'].mean())"
   ]
  },
  {
   "cell_type": "markdown",
   "metadata": {},
   "source": [
    "# Let's now repeat the process for the numerical features"
   ]
  },
  {
   "cell_type": "code",
   "execution_count": 32,
   "metadata": {},
   "outputs": [
    {
     "name": "stdout",
     "output_type": "stream",
     "text": [
      "Average F1 score for Decision Tree: 0.6362803839385204\n"
     ]
    }
   ],
   "source": [
    "performance_tree = []\n",
    "for parameter_tree_combination in ParameterGrid(param_grid_tree):\n",
    "    tree = DT(**parameter_tree_combination)\n",
    "    tree.fit(num_train_scaled_KNN, y_train)\n",
    "    y_tree = tree.predict(num_val_scaled_KNN)\n",
    "    performance_tree.append(sklearn.metrics.f1_score(y_val, y_tree, average='macro'))\n",
    "    \n",
    "# print the average of the f1 scores\n",
    "print('Average F1 score for Decision Tree:', sum(performance_tree) / len(performance_tree))"
   ]
  },
  {
   "cell_type": "code",
   "execution_count": 33,
   "metadata": {},
   "outputs": [
    {
     "name": "stdout",
     "output_type": "stream",
     "text": [
      "Best parameters for Decision Tree: {'max_depth': 4, 'min_samples_leaf': 1, 'min_samples_split': 2}\n",
      "Average F1 score for Decision Tree: 0.6425414487116574\n"
     ]
    }
   ],
   "source": [
    "grid_search_tree = GridSearchCV(DT(random_state=0), param_grid_tree, cv=5, scoring='f1_macro', n_jobs=-1)\n",
    "grid_search_tree.fit(num_train_scaled_KNN, y_train)\n",
    "print('Best parameters for Decision Tree:', grid_search_tree.best_params_)\n",
    "print('Average F1 score for Decision Tree:', grid_search_tree.cv_results_['mean_test_score'].mean())"
   ]
  },
  {
   "cell_type": "code",
   "execution_count": 34,
   "metadata": {},
   "outputs": [
    {
     "name": "stdout",
     "output_type": "stream",
     "text": [
      "Average F1 score for KNN: 0.599254992047096\n"
     ]
    }
   ],
   "source": [
    "performance_KNN = []\n",
    "for parameter_KNN_combination in ParameterGrid(param_grid_KNN):\n",
    "    knn = KNN(**parameter_KNN_combination)\n",
    "    knn.fit(num_train_scaled_KNN, y_train)\n",
    "    y_knn = knn.predict(num_val_scaled_KNN)\n",
    "    performance_KNN.append(sklearn.metrics.f1_score(y_val, y_knn, average='macro'))\n",
    "\n",
    "# print the average of the f1 scores\n",
    "print('Average F1 score for KNN:', sum(performance_KNN) / len(performance_KNN))"
   ]
  },
  {
   "cell_type": "code",
   "execution_count": 35,
   "metadata": {},
   "outputs": [
    {
     "name": "stdout",
     "output_type": "stream",
     "text": [
      "Best parameters for KNN: {'n_neighbors': 7, 'weights': 'uniform'}\n",
      "Average F1 score for KNN: 0.6369082277895236\n"
     ]
    }
   ],
   "source": [
    "grid_search_KNN = GridSearchCV(KNN(), param_grid_KNN, cv=5, scoring='f1_macro', n_jobs=-1)\n",
    "grid_search_KNN.fit(num_train_scaled_KNN, y_train)\n",
    "print('Best parameters for KNN:', grid_search_KNN.best_params_)\n",
    "print('Average F1 score for KNN:', grid_search_KNN.cv_results_['mean_test_score'].mean())"
   ]
  },
  {
   "cell_type": "markdown",
   "metadata": {},
   "source": [
    "# Let's now repeat the process for all the features"
   ]
  },
  {
   "cell_type": "code",
   "execution_count": 36,
   "metadata": {},
   "outputs": [],
   "source": [
    "# merge the categorical and numerical data\n",
    "X_train_all = pd.concat([X_train_cat2, num_train_scaled_KNN], axis=1)\n",
    "X_val_all = pd.concat([X_val_cat2, num_val_scaled_KNN], axis=1)\n",
    "X_test_all = pd.concat([X_test_cat2, num_test_scaled_KNN], axis=1)"
   ]
  },
  {
   "cell_type": "code",
   "execution_count": 37,
   "metadata": {},
   "outputs": [
    {
     "name": "stdout",
     "output_type": "stream",
     "text": [
      "Average F1 score for Decision Tree: 0.8267645756608865\n"
     ]
    }
   ],
   "source": [
    "performance_tree = []\n",
    "for parameter_tree_combination in ParameterGrid(param_grid_tree):\n",
    "    tree = DT(**parameter_tree_combination)\n",
    "    tree.fit(X_train_all, y_train)\n",
    "    y_tree = tree.predict(X_val_all)\n",
    "    performance_tree.append(sklearn.metrics.f1_score(y_val, y_tree, average='macro'))\n",
    "\n",
    "# print the average of the f1 scores\n",
    "print('Average F1 score for Decision Tree:', sum(performance_tree) / len(performance_tree))"
   ]
  },
  {
   "cell_type": "code",
   "execution_count": 38,
   "metadata": {},
   "outputs": [
    {
     "name": "stdout",
     "output_type": "stream",
     "text": [
      "Best parameters for Decision Tree: {'max_depth': 3, 'min_samples_leaf': 3, 'min_samples_split': 2}\n",
      "Average F1 score for Decision Tree: 0.7561890365043256\n"
     ]
    }
   ],
   "source": [
    "grid_search_tree = GridSearchCV(DT(random_state=0), param_grid_tree, cv=5, scoring='f1_macro', n_jobs=-1)\n",
    "grid_search_tree.fit(X_train_all, y_train)\n",
    "print('Best parameters for Decision Tree:', grid_search_tree.best_params_)\n",
    "print('Average F1 score for Decision Tree:', grid_search_tree.cv_results_['mean_test_score'].mean())"
   ]
  },
  {
   "cell_type": "code",
   "execution_count": 39,
   "metadata": {},
   "outputs": [],
   "source": [
    "from sklearn.metrics import pairwise_distances"
   ]
  },
  {
   "cell_type": "code",
   "execution_count": 40,
   "metadata": {},
   "outputs": [],
   "source": [
    "# Let's compute the Hamming distance for the categorical data\n",
    "hamming_dist = pairwise_distances(X_train_cat2, metric='hamming')\n",
    "\n",
    "# Let's compute the Euclidean distance for the numerical data\n",
    "euclidean_dist = pairwise_distances(num_train_scaled_KNN, metric='euclidean')\n",
    "\n",
    "# Let's combine the two distances. Since the categorical features are 5 and the numerical features are 4, we will use these as weights\n",
    "multi_dist = hamming_dist * 5/9 + euclidean_dist * 4/9\n"
   ]
  },
  {
   "cell_type": "code",
   "execution_count": 41,
   "metadata": {},
   "outputs": [
    {
     "name": "stdout",
     "output_type": "stream",
     "text": [
      "Best parameters for KNN: {'n_neighbors': 5, 'weights': 'uniform'}\n",
      "Average F1 score for KNN: 0.7561797695688698\n"
     ]
    }
   ],
   "source": [
    "grid_search_KNN = GridSearchCV(KNN(metric='precomputed'), param_grid_KNN, cv=5, scoring='f1_macro', n_jobs=-1)\n",
    "grid_search_KNN.fit(multi_dist, y_train)\n",
    "print('Best parameters for KNN:', grid_search_KNN.best_params_)\n",
    "print('Average F1 score for KNN:', grid_search_KNN.cv_results_['mean_test_score'].mean())"
   ]
  },
  {
   "cell_type": "code",
   "execution_count": 42,
   "metadata": {},
   "outputs": [
    {
     "name": "stdout",
     "output_type": "stream",
     "text": [
      "Best parameters for Decision Tree: {'max_depth': 3, 'min_samples_leaf': 1, 'min_samples_split': 2}\n"
     ]
    }
   ],
   "source": [
    "performance_tree = []\n",
    "for parameter_tree_combination in ParameterGrid(param_grid_tree):\n",
    "    tree = DT(**parameter_tree_combination)\n",
    "    tree.fit(X_train_cat2, y_train)\n",
    "    y_tree = tree.predict(X_val_cat2)\n",
    "    # append the parameters and their performance to the list\n",
    "    performance_tree.append((parameter_tree_combination, sklearn.metrics.f1_score(y_val, y_tree, average='macro')))\n",
    "\n",
    "# find the best parameters\n",
    "best_parameters_tree = max(performance_tree, key=lambda x: x[1])\n",
    "print('Best parameters for Decision Tree:', best_parameters_tree[0])"
   ]
  },
  {
   "cell_type": "code",
   "execution_count": 43,
   "metadata": {},
   "outputs": [
    {
     "name": "stdout",
     "output_type": "stream",
     "text": [
      "F1 score for Decision Tree: 0.7785421545667447\n"
     ]
    }
   ],
   "source": [
    "# let's now train the model with the best parameters\n",
    "tree = DT(**best_parameters_tree[0])\n",
    "tree.fit(X_train_cat2, y_train)\n",
    "y_tree = tree.predict(X_test_cat2)\n",
    "print('F1 score for Decision Tree:', sklearn.metrics.f1_score(y_test, y_tree, average='macro'))"
   ]
  },
  {
   "cell_type": "code",
   "execution_count": 44,
   "metadata": {},
   "outputs": [
    {
     "name": "stdout",
     "output_type": "stream",
     "text": [
      "Best parameters for KNN: {'n_neighbors': 3, 'weights': 'uniform'}\n"
     ]
    }
   ],
   "source": [
    "performance_KNN = []\n",
    "for parameter_KNN_combination in ParameterGrid(param_grid_KNN):\n",
    "    knn = KNN(**parameter_KNN_combination)\n",
    "    knn.fit(X_train_cat2, y_train)\n",
    "    y_knn = knn.predict(X_val_cat2)\n",
    "     # append the parameters and their performance to the list\n",
    "    performance_KNN.append((parameter_KNN_combination, sklearn.metrics.f1_score(y_val, y_knn, average='macro')))\n",
    "\n",
    "# find the best parameters\n",
    "best_parameters_KNN = max(performance_KNN, key=lambda x: x[1])\n",
    "print('Best parameters for KNN:', best_parameters_KNN[0])"
   ]
  },
  {
   "cell_type": "code",
   "execution_count": 45,
   "metadata": {},
   "outputs": [
    {
     "name": "stdout",
     "output_type": "stream",
     "text": [
      "F1 score for KNN: 0.7595844155844156\n"
     ]
    }
   ],
   "source": [
    "knn = KNN(**best_parameters_KNN[0])\n",
    "knn.fit(X_train_cat2, y_train)\n",
    "y_knn = knn.predict(X_test_cat2)\n",
    "print('F1 score for KNN:', sklearn.metrics.f1_score(y_test, y_knn, average='macro'))"
   ]
  }
 ],
 "metadata": {
  "kernelspec": {
   "display_name": "Acan_Env_Cloud_20240904",
   "language": "python",
   "name": "python3"
  },
  "language_info": {
   "codemirror_mode": {
    "name": "ipython",
    "version": 3
   },
   "file_extension": ".py",
   "mimetype": "text/x-python",
   "name": "python",
   "nbconvert_exporter": "python",
   "pygments_lexer": "ipython3",
   "version": "3.12.4"
  }
 },
 "nbformat": 4,
 "nbformat_minor": 2
}
